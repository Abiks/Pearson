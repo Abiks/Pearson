{
 "cells": [
  {
   "cell_type": "markdown",
   "metadata": {},
   "source": [
    "# Формулировка задания (задача из Гмурмана):\n",
    "****\n",
    "![title](Task.png)\n",
    "****\n",
    "\n",
    "Будем делать эту задачу. Начнем с подключения необходимых библиотек"
   ]
  },
  {
   "cell_type": "code",
   "execution_count": 1,
   "metadata": {
    "ExecuteTime": {
     "end_time": "2019-05-23T16:24:15.822068Z",
     "start_time": "2019-05-23T16:24:15.531291Z"
    }
   },
   "outputs": [],
   "source": [
    "import numpy as np # Базовая математическая библиотека\n",
    "np.set_printoptions(precision=5) # Округление чисел, идущих на вывод (на точность расчетов эта команда не влияет)\n",
    "\n",
    "import matplotlib.pyplot as plt # Библиотека для рисования\n",
    "%matplotlib inline \n",
    "\n",
    "import scipy.stats # Библиотека со статистическими классами и функциями"
   ]
  },
  {
   "cell_type": "markdown",
   "metadata": {},
   "source": [
    "Первым делом надо забить нашу выборку в переменные. Заведем для этого два одномерных массива: для $x_i$ и $n_i$:\n",
    "           \n",
    "$x_i$ --- это просто куски интервалов (будем считать, что это середины интервалов, и вообще будем с ними обращаться как с элементами выборки), взятые с одинаковым шагом. Всего их 11. "
   ]
  },
  {
   "cell_type": "code",
   "execution_count": 2,
   "metadata": {
    "ExecuteTime": {
     "end_time": "2019-05-23T16:24:15.825762Z",
     "start_time": "2019-05-23T16:24:15.823314Z"
    }
   },
   "outputs": [
    {
     "name": "stdout",
     "output_type": "stream",
     "text": [
      "[0.3 0.5 0.7 0.9 1.1 1.3 1.5 1.7 1.9 2.1 2.3]\n"
     ]
    }
   ],
   "source": [
    "x = np.linspace(0.3, 2.3, 11)\n",
    "print(x)"
   ]
  },
  {
   "cell_type": "markdown",
   "metadata": {},
   "source": [
    "Наблюдаемые частоты (не уверен насчет слова \"частота\", но вроде так допустимо говорить в значении \"количество\"):"
   ]
  },
  {
   "cell_type": "code",
   "execution_count": 3,
   "metadata": {
    "ExecuteTime": {
     "end_time": "2019-05-23T16:24:15.842649Z",
     "start_time": "2019-05-23T16:24:15.827299Z"
    }
   },
   "outputs": [],
   "source": [
    "n = np.array([6, 9, 26, 25, 30, 26, 21, 24, 20, 8, 5])"
   ]
  },
  {
   "cell_type": "markdown",
   "metadata": {},
   "source": [
    "А вообще, наша выборка целиком выглядит вот так:"
   ]
  },
  {
   "cell_type": "code",
   "execution_count": 4,
   "metadata": {
    "ExecuteTime": {
     "end_time": "2019-05-23T16:24:15.860705Z",
     "start_time": "2019-05-23T16:24:15.844234Z"
    }
   },
   "outputs": [
    {
     "name": "stdout",
     "output_type": "stream",
     "text": [
      "[0.3 0.3 0.3 0.3 0.3 0.3 0.5 0.5 0.5 0.5 0.5 0.5 0.5 0.5 0.5 0.7 0.7 0.7\n",
      " 0.7 0.7 0.7 0.7 0.7 0.7 0.7 0.7 0.7 0.7 0.7 0.7 0.7 0.7 0.7 0.7 0.7 0.7\n",
      " 0.7 0.7 0.7 0.7 0.7 0.9 0.9 0.9 0.9 0.9 0.9 0.9 0.9 0.9 0.9 0.9 0.9 0.9\n",
      " 0.9 0.9 0.9 0.9 0.9 0.9 0.9 0.9 0.9 0.9 0.9 0.9 1.1 1.1 1.1 1.1 1.1 1.1\n",
      " 1.1 1.1 1.1 1.1 1.1 1.1 1.1 1.1 1.1 1.1 1.1 1.1 1.1 1.1 1.1 1.1 1.1 1.1\n",
      " 1.1 1.1 1.1 1.1 1.1 1.1 1.3 1.3 1.3 1.3 1.3 1.3 1.3 1.3 1.3 1.3 1.3 1.3\n",
      " 1.3 1.3 1.3 1.3 1.3 1.3 1.3 1.3 1.3 1.3 1.3 1.3 1.3 1.3 1.5 1.5 1.5 1.5\n",
      " 1.5 1.5 1.5 1.5 1.5 1.5 1.5 1.5 1.5 1.5 1.5 1.5 1.5 1.5 1.5 1.5 1.5 1.7\n",
      " 1.7 1.7 1.7 1.7 1.7 1.7 1.7 1.7 1.7 1.7 1.7 1.7 1.7 1.7 1.7 1.7 1.7 1.7\n",
      " 1.7 1.7 1.7 1.7 1.7 1.9 1.9 1.9 1.9 1.9 1.9 1.9 1.9 1.9 1.9 1.9 1.9 1.9\n",
      " 1.9 1.9 1.9 1.9 1.9 1.9 1.9 2.1 2.1 2.1 2.1 2.1 2.1 2.1 2.1 2.3 2.3 2.3\n",
      " 2.3 2.3]\n"
     ]
    }
   ],
   "source": [
    "total_sample = []\n",
    "for i in range(len(x)):\n",
    "    total_sample += [x[i]] * n[i]\n",
    "    \n",
    "total_sample = np.array(total_sample)\n",
    "print(total_sample)"
   ]
  },
  {
   "cell_type": "markdown",
   "metadata": {},
   "source": [
    "Можно посчитать какие-нибудь базовые статистики. Например, выборочное среднее и выборочную дисперсию, они нам дальше пригодятся. "
   ]
  },
  {
   "cell_type": "code",
   "execution_count": 5,
   "metadata": {
    "ExecuteTime": {
     "end_time": "2019-05-23T16:24:15.879478Z",
     "start_time": "2019-05-23T16:24:15.861659Z"
    }
   },
   "outputs": [
    {
     "name": "stdout",
     "output_type": "stream",
     "text": [
      "Выборочное среднее: 1.2619999999999998\n",
      "Выборочная дисперсия: 0.24015599999999995\n",
      "Выборочное среднеквадратичное отклонение: 0.49005713952558627\n"
     ]
    }
   ],
   "source": [
    "sample_mean = total_sample.mean()\n",
    "print('Выборочное среднее:', sample_mean)\n",
    "\n",
    "sample_var = total_sample.var()\n",
    "print('Выборочная дисперсия:', sample_var)\n",
    "\n",
    "sample_std = sample_var**0.5\n",
    "print('Выборочное среднеквадратичное отклонение:', sample_std)"
   ]
  },
  {
   "cell_type": "markdown",
   "metadata": {},
   "source": [
    "Перед тем, как приступать к решению задачи, хотелось бы дать некоторые пояснения насчет условия. \n",
    "\n",
    "# Понимаем условие задачи\n",
    "\n",
    "Давайте еще раз посмотрим на выборку:"
   ]
  },
  {
   "cell_type": "code",
   "execution_count": 6,
   "metadata": {
    "ExecuteTime": {
     "end_time": "2019-05-23T16:24:15.903708Z",
     "start_time": "2019-05-23T16:24:15.880433Z"
    }
   },
   "outputs": [
    {
     "name": "stdout",
     "output_type": "stream",
     "text": [
      "[0.3 0.3 0.3 0.3 0.3 0.3 0.5 0.5 0.5 0.5 0.5 0.5 0.5 0.5 0.5 0.7 0.7 0.7\n",
      " 0.7 0.7 0.7 0.7 0.7 0.7 0.7 0.7 0.7 0.7 0.7 0.7 0.7 0.7 0.7 0.7 0.7 0.7\n",
      " 0.7 0.7 0.7 0.7 0.7 0.9 0.9 0.9 0.9 0.9 0.9 0.9 0.9 0.9 0.9 0.9 0.9 0.9\n",
      " 0.9 0.9 0.9 0.9 0.9 0.9 0.9 0.9 0.9 0.9 0.9 0.9 1.1 1.1 1.1 1.1 1.1 1.1\n",
      " 1.1 1.1 1.1 1.1 1.1 1.1 1.1 1.1 1.1 1.1 1.1 1.1 1.1 1.1 1.1 1.1 1.1 1.1\n",
      " 1.1 1.1 1.1 1.1 1.1 1.1 1.3 1.3 1.3 1.3 1.3 1.3 1.3 1.3 1.3 1.3 1.3 1.3\n",
      " 1.3 1.3 1.3 1.3 1.3 1.3 1.3 1.3 1.3 1.3 1.3 1.3 1.3 1.3 1.5 1.5 1.5 1.5\n",
      " 1.5 1.5 1.5 1.5 1.5 1.5 1.5 1.5 1.5 1.5 1.5 1.5 1.5 1.5 1.5 1.5 1.5 1.7\n",
      " 1.7 1.7 1.7 1.7 1.7 1.7 1.7 1.7 1.7 1.7 1.7 1.7 1.7 1.7 1.7 1.7 1.7 1.7\n",
      " 1.7 1.7 1.7 1.7 1.7 1.9 1.9 1.9 1.9 1.9 1.9 1.9 1.9 1.9 1.9 1.9 1.9 1.9\n",
      " 1.9 1.9 1.9 1.9 1.9 1.9 1.9 2.1 2.1 2.1 2.1 2.1 2.1 2.1 2.1 2.3 2.3 2.3\n",
      " 2.3 2.3]\n"
     ]
    }
   ],
   "source": [
    "print(total_sample)"
   ]
  },
  {
   "cell_type": "markdown",
   "metadata": {},
   "source": [
    "Представим, что эти числа к нам пришли откуда-то извне (например, с некоего датчика, измеряющего некий процесс). Хотелось бы сделать какой-то вывод на основе этих данных.      \n",
    "Лучший способ начать работу: просто посмотреть на то, что у нас вообще есть. Стандартный инструмент для \"смотрения\" на выборку -- гистограмма. Нарисуем ее:"
   ]
  },
  {
   "cell_type": "code",
   "execution_count": 7,
   "metadata": {
    "ExecuteTime": {
     "end_time": "2019-05-23T16:24:16.057104Z",
     "start_time": "2019-05-23T16:24:15.905096Z"
    }
   },
   "outputs": [
    {
     "data": {
      "image/png": "[encoded data removed]",
      "text/plain": [
       "<Figure size 432x288 with 1 Axes>"
      ]
     },
     "metadata": {
      "needs_background": "light"
     },
     "output_type": "display_data"
    }
   ],
   "source": [
    "plt.hist(total_sample, bins=11);"
   ]
  },
  {
   "cell_type": "markdown",
   "metadata": {},
   "source": [
    "Напоминает ли она вам что-нибудь? Лично я бы посмотрел в сторону бета-распределения. Однако эту творческую часть работы уже сделали за нас -- в формулировке из Гмурмана конкретно говорится про проверку гипотезы о нормальном распределении.       \n",
    "       \n",
    "Если у нас выборка из нормального распределения, то давайте поймем, какие у этого распределения будут параметры. Для этого предлагаю использовать метод максимального правдоподобия. На одном из прошлых семинаров мы как раз получали оценки максимального правдоподобия для нормального распределения в случае обоих неизвестных параметров. \n",
    "\n",
    "Получили, что ОМП-оценка параметра $\\alpha$ -- выборочное среднее, а параметра $\\sigma$ -- выборочная дисперсия (причем, смещенная). \n",
    "\n",
    "Как раз эти параметры мы и насчитали чуть выше."
   ]
  },
  {
   "cell_type": "markdown",
   "metadata": {},
   "source": [
    "## Поясняющая картинка\n",
    "Есть очень хорошая рекомендация: при работе с данными рисуйте все, что только можно нарисовать. Числа зачастую дают очень искаженную картину реальности (разумеется, они не могут лгать, просто очень легко ошибиться с их интерпретацией). \n",
    "\n",
    "Давайте нарисуем условие задачи.\n",
    "\n",
    "\n",
    "Напоминаю, что мы считаем $x_i$ центрами соответсвующих интервалов. Найдем ожидаемые частоты (сколько точек должно было попасть в каждый из интервалов в случае, если у нас действительно нормальное распределение)"
   ]
  },
  {
   "cell_type": "code",
   "execution_count": 8,
   "metadata": {
    "ExecuteTime": {
     "end_time": "2019-05-23T16:24:16.061610Z",
     "start_time": "2019-05-23T16:24:16.058565Z"
    }
   },
   "outputs": [
    {
     "name": "stdout",
     "output_type": "stream",
     "text": [
      "[ 4.83535  9.81582 16.90709 24.70945 30.64189 32.2426  28.78773 21.80949\n",
      " 14.01974  7.64687  3.53888]\n"
     ]
    }
   ],
   "source": [
    "e = scipy.stats.norm.cdf(x=np.linspace(0.2, 2.4, 12), loc=sample_mean, scale=sample_std)\n",
    "\n",
    "probabilities = e[1:] - e[:-1]\n",
    "expected_counts = probabilities * total_sample.size\n",
    "print(expected_counts)"
   ]
  },
  {
   "cell_type": "markdown",
   "metadata": {},
   "source": [
    "Все, теперь наконец-то можно рисовать."
   ]
  },
  {
   "cell_type": "code",
   "execution_count": 9,
   "metadata": {
    "ExecuteTime": {
     "end_time": "2019-05-23T16:24:16.244758Z",
     "start_time": "2019-05-23T16:24:16.063026Z"
    }
   },
   "outputs": [
    {
     "data": {
      "image/png": "[encoded data removed]",
      "text/plain": [
       "<Figure size 1080x576 with 1 Axes>"
      ]
     },
     "metadata": {
      "needs_background": "light"
     },
     "output_type": "display_data"
    }
   ],
   "source": [
    "plt.figure(figsize=(15,8))\n",
    "plt.bar(x, height=expected_counts, alpha=0.6, width=0.05, color='green', label='Нормальное распределение')\n",
    "plt.bar(x, height=n, alpha=0.3, width=0.15, color='blue', label='Фактические данные')\n",
    "\n",
    "x_cont = np.linspace(0.2, 2.4, 100)\n",
    "pdf_cont = scipy.stats.norm.pdf(x=x_cont, loc=sample_mean, scale=sample_std)*39.75\n",
    "plt.plot(x_cont, pdf_cont, color='green')\n",
    "plt.legend();"
   ]
  },
  {
   "cell_type": "markdown",
   "metadata": {},
   "source": [
    "Подытожим:\n",
    "* Нам откуда-то пришли некие числа.\n",
    "* Мы нарисовали гистограмму (синие столбцы) этой выборки. \n",
    "* Посмотрели на гистограмму \"и сделали предположение\" (так в идеале, а по факту гипотеза сформулирована в задании), что они имеют нормальное распределение. \n",
    "* Тогда нам нужно как-то оценить параметры этого распределения. Используем для этого метод максимального правдоподобия. \n",
    "* После того, как мы получили оценку параметров, мы можем нарисовать \"плотность распределения\" -- зеленая непрерывная линия. (параметр 39.75 я выбирал из расчета, чтобы график смотрелся красиво. Дальше это число никак не используется)\n",
    "* Гораздо важнее, что теперь мы можем посчитать ожидаемое количество попаданий в каждый интервал по формуле\n",
    "          (вероятность попадания в интервал) * (объем выборки)         \n",
    "  (Обязательно спрошу на экзамене, что это вообще такое и откуда следует)        \n",
    "  На графике ожидаемое количество попаданий нарисовано зелеными столбцами.  \n",
    "* Теперь от нас требуется провести анализ того, насколько синие и зеленые столбцы близки друг к другу. И выразить это в каком-то более-менее понятном виде. \n",
    "\n",
    "При решении любой задачи (не обязательно математической) стоит задавать вопрос \"насколько моя задача типична\". Типичные задачи обычно имеют готовые решения. Вообще говоря, вопрос о том, насколько имеющаяся выборка согласуется с нормальным распределением -- настолько типичен, что существуют методы, специально заточенные на работу именно с нормальным распределением. Однако по заданию мы будем пользоваться более универсальной штукой, подходящей к любым распределениям. И называется это"
   ]
  },
  {
   "cell_type": "markdown",
   "metadata": {},
   "source": [
    "# Критерий согласия Пирсона (или критерий \"хи-квадрат\")"
   ]
  },
  {
   "cell_type": "markdown",
   "metadata": {},
   "source": [
    "Основная идея как раз таки сравнение высот столбцов. То есть, ожидаемого количества попаданий в каждый интервал и фактического. Лучше всего, как мне кажется, этот критерий описан в томе 2 \"Искусства программирования\" Кнута. Очень рекомендую почитать, тем более, что я не смогу эту тему рассказать лучше.       \n",
    "\n",
    "Приведу только основную идею:\n",
    "1. У нас есть фактические количества попаданий в каждый интервал: $n_i$\n",
    "2. Также для каждого интервала мы знаем вероятности попадания в него при условии верности нашей гипотезы: $p_i$. Следовательно, мы знаем ожидаемое число попаданий в каждый интервал: $Np_i$, где $N$ -- объем выборки\n",
    "3. Нас интересуют разности $n_i - Np_i$\n",
    "4. Причем, интересует именно абсолютные значения этих разностей. Самый простой способ избавиться от знака -- возвести в квадрат (можно, конечно, взять модуль, но с этой функцией сложно работать, поэтому стандартным вариантом является именно возведение в квадрат). Получаем $(n_i - Np_i)^2$\n",
    "5. Заметим, что интервалы у нас неравноправны. Если мы ожидаем, что в каком-то интервале будет 10000 точек, а пришло 10100 -- это далеко не так критично, как если бы мы ожидали всего одну точку в интервале, а получили 101. И там, и там разница (в виде числа) одинаковая, но интуитивно понятно, что второй случай необходимо учитывать намного сильнее. Отсюда следует нормировка на ожидаемое количество попаданий в интервал: $\\frac{(n_i - Np_i)^2}{Np_i}$\n",
    "6. Наконец, мы берем сумму по всем интервалам и получаем статистику критерия:\n",
    "$$\n",
    "Y = \\sum_{i=1}^m\\frac{(n_i - Np_i)^2}{Np_i}\n",
    "$$\n",
    "    где m -- количество интервалов (в нашем примере их 11)\n",
    "7. Как любая статистика критерия в случае верной нулевой гипотезы (то есть, в нашем случае -- если наши числа действительно пришли из нормального распределения) $Y$ имеет известное распределение. В данном случае -- распределение хи-квадрат. Это распределение имеет один параметр (называется \"число степеней свободы\"), равный $(m-1)$. То есть, в нашем случае их 10. \n",
    "\n",
    "Нарисуем плотность этого распределения"
   ]
  },
  {
   "cell_type": "code",
   "execution_count": 10,
   "metadata": {
    "ExecuteTime": {
     "end_time": "2019-05-23T16:24:16.350915Z",
     "start_time": "2019-05-23T16:24:16.246147Z"
    }
   },
   "outputs": [
    {
     "data": {
      "text/plain": [
       "[<matplotlib.lines.Line2D at 0x7ff47de52358>]"
      ]
     },
     "execution_count": 10,
     "metadata": {},
     "output_type": "execute_result"
    },
    {
     "data": {
      "image/png": "[encoded data removed]",
      "text/plain": [
       "<Figure size 864x576 with 1 Axes>"
      ]
     },
     "metadata": {
      "needs_background": "light"
     },
     "output_type": "display_data"
    }
   ],
   "source": [
    "x_chi2 = np.linspace(0, 50, 100)\n",
    "y_chi2 = scipy.stats.chi2.pdf(x_chi2, df=10)\n",
    "\n",
    "plt.figure(figsize=(12, 8))\n",
    "plt.plot(x_chi2, y_chi2)"
   ]
  },
  {
   "cell_type": "markdown",
   "metadata": {},
   "source": [
    "Стандартный алгоритм проверки статистических гипотез дальше немного разветвляется. Первый способ совсем классический, основан на использовании заранее определенного уровня значимости (в формулировке задания это 0.05). Идея тут следующая: \n",
    "1. У нас есть некое значение $Y$, которое нам показывает, насколько гистограмма близка к ожидаемой. Соответственно, если $Y$ имеет большое значение, то у нас большая разница между ожиданием и реальностью. Конечно, такое может произойти и при верной нулевой гипотезе, однако вероятность этого мала. \n",
    "2. Поэтому мы будем выбирать некоторое значение $y_0$, такое, что при $Y>y_0$ мы будем отвергать нулевую гипотезу. Разумеется, может быть и так, что нам не повезет с данными и мы отвергнем верную нулевую гипотезу. Такая ошибка называется \"ошибкой первого рода\". \n",
    "3. Поскольку мы можем выбирать $y_0$, то мы можем таким образом управлять вероятностью совершить ошибку первого рода. Фиксируем некоторое значение этой вероятности, которое нас устраивает (тут это сделали за нас, это и есть уровень значимости, равный 0.05). \n",
    "4. Теперь, когда мы знаем уровень значимости, мы ищем $y_0$. Как нетрудно догадаться, мы его ищем таким образом, чтобы площадь под графиком плотности распределения правее $y_0$ была равна 0.05. \n",
    "5. В этом нам поможет обратная функция к функции распределения. Значения этой функции обычно называют \"процентили\" или \"квантили\" (зависит от источника, лично я предпочитаю говорить \"квантиль\"). Их можно посмотреть во многочисленных таблицах (например, здесь: https://ru.wikipedia.org/wiki/%D0%9A%D0%B2%D0%B0%D0%BD%D1%82%D0%B8%D0%BB%D0%B8_%D1%80%D0%B0%D1%81%D0%BF%D1%80%D0%B5%D0%B4%D0%B5%D0%BB%D0%B5%D0%BD%D0%B8%D1%8F_%D1%85%D0%B8-%D0%BA%D0%B2%D0%B0%D0%B4%D1%80%D0%B0%D1%82), либо посчитать с помощью готовых функций (разумеется, в питоне они тоже есть). Сейчас мы сделаем оба варианта. "
   ]
  },
  {
   "cell_type": "markdown",
   "metadata": {},
   "source": [
    "## С помощью таблицы\n",
    "Нам нужна квантиль уровня 0.95 распределения хи-квадрат с 10 степенями свободы. Смотрим на таблицу с Википедии. По вертикали у нас степени свободы, по горизонтали -- перевернутые значения уровня квантили (то есть, те самые уровни значимости). Смотрим на 10 строку, на столбец, соответствующий значению 0.05, видим число **18.307**. Это и есть наше $y_0$"
   ]
  },
  {
   "cell_type": "markdown",
   "metadata": {},
   "source": [
    "## С помощью функции из статистической библиотеки питона\n",
    "Просто вызываем функцию, передавая ей желаемый уровень значимости (точнее, желаемый уровень квантили) и число степеней свободы. "
   ]
  },
  {
   "cell_type": "code",
   "execution_count": 11,
   "metadata": {
    "ExecuteTime": {
     "end_time": "2019-05-23T16:24:16.355574Z",
     "start_time": "2019-05-23T16:24:16.352563Z"
    }
   },
   "outputs": [
    {
     "data": {
      "text/plain": [
       "18.307038053275146"
      ]
     },
     "execution_count": 11,
     "metadata": {},
     "output_type": "execute_result"
    }
   ],
   "source": [
    "scipy.stats.chi2.ppf(0.95, 10)"
   ]
  },
  {
   "cell_type": "markdown",
   "metadata": {},
   "source": [
    "Вообще, современным численным методам я бы доверял больше, чем статистическим таблицам, особенно, когда речь заходит про n-е знаки после запятой. Но всегда есть риск ошибиться в коде, поэтому лишняя проверка не помешает. Но сейчас все нормально, мы получили примерно то же число. "
   ]
  },
  {
   "cell_type": "markdown",
   "metadata": {},
   "source": [
    "# Финальные штрихи\n",
    "Теперь мы знаем, что при попадании $Y$ в интервал $(18.307, \\infty )$ мы можем отбросить нулевую гипотезу, рискуя при этом ошибиться не более чем с 5-процентной вероятностью. Нас это устраивает. Осталось посчитать $Y$ и посмотреть, попадает ли он в этот интервал. Считаем:"
   ]
  },
  {
   "cell_type": "code",
   "execution_count": 12,
   "metadata": {
    "ExecuteTime": {
     "end_time": "2019-05-23T16:24:16.372293Z",
     "start_time": "2019-05-23T16:24:16.356682Z"
    }
   },
   "outputs": [
    {
     "name": "stdout",
     "output_type": "stream",
     "text": [
      "11.961434811334154\n"
     ]
    }
   ],
   "source": [
    "Y = ((n - expected_counts)**2 / expected_counts).sum()\n",
    "print(Y)"
   ]
  },
  {
   "cell_type": "markdown",
   "metadata": {},
   "source": [
    "# Альтернативный способ -- реально достигнутый уровень значимости\n",
    "\n",
    "Существует и другой путь: вместо того, чтобы высчитывать критическую область, мы просто находим вероятность того, что наша статистика критерия примет значение более экстремальное, чем то, что есть в нашей выборке (ведь мы знаем и $Y$, и его распределение, можно просто их сопоставить).       \n",
    "После того, как мы найдем реально достигнутый уровень значимости (его также называют p-value или p-значение), нам останется только его сопоставить с уровнем значимости, который мы выбрали для нашей задачи. \n",
    "\n",
    "\n",
    "\n",
    "Преимущество данного способа в том, что подсчет p-value намного проще программно реализовать. Что уже сделали, разумеется. Давайте же просто вызовем готовую функцию и найдем РДУЗ:"
   ]
  },
  {
   "cell_type": "code",
   "execution_count": 13,
   "metadata": {
    "ExecuteTime": {
     "end_time": "2019-05-23T16:24:16.390564Z",
     "start_time": "2019-05-23T16:24:16.373242Z"
    }
   },
   "outputs": [
    {
     "data": {
      "text/plain": [
       "Power_divergenceResult(statistic=11.961434811334154, pvalue=0.28764582076710915)"
      ]
     },
     "execution_count": 13,
     "metadata": {},
     "output_type": "execute_result"
    }
   ],
   "source": [
    "scipy.stats.chisquare(n, expected_counts)"
   ]
  },
  {
   "cell_type": "markdown",
   "metadata": {},
   "source": [
    "В выводе функции мы видим два числа. Первое (statictic) -- это уже знакомая нам статистика критерия $Y$, которую мы чуть выше посчитали \"в лоб\". Второе (pvalue) -- тот самый реально достигнутый уровень значимости. Скопирую сюда хорошее объяснение с одного из математических форумов:        \n",
    "\n",
    "    Чтобы понять его смысл, попробуйте представить две ситуации. \n",
    "    1. Выборка у Вас такова, что этот РДУЗ равен 0.0001.\n",
    "    2. Выборка у Вас такова, что этот РДУЗ равен 0.72.\n",
    "\n",
    "    Во втором случае гипотеза будет приниматься любым критерием, размер которого - аж до 0.72. \n",
    "    Т.е. даже если Вы захотите пользоваться критерием, отвергающим правильную основную гипотезу в 71% случаев (при самом минимальном подозрении), Вы по Вашей выборке все равно ее примете. \n",
    "\n",
    "    В первом случае только критерии, отвергающие верную основную гипотезу реже, чем в одном случае из 10000 (почти никогда), примут ее по Вашей выборке.\n",
    "    \n",
    "    \n",
    "В нашем случае РДУЗ равен примерно 0.28. Если мы решим поставить уровень значимости в 0.05 (условие задачи), то мы примем основную гипотезу. "
   ]
  },
  {
   "cell_type": "markdown",
   "metadata": {},
   "source": [
    "# Общий алгоритм\n",
    "Те из вас, кто почитал оглавление Гмурмана, наверняка заметили большое количество задач на разнообразные статистические критерии. Вообще, они все решаются по примерно одному и тому же алгоритму:\n",
    "\n",
    "1. Сформулировать основную (нулевую) и альтернативную гипотезы\n",
    "2. Выбрать критерий (т.е. такую функцию от выборки, которая информативна и имеет известное нам распределение в случае верной нулевой гипотезы)\n",
    "3. Выбрать уровень значимости\n",
    "4. Определить критическую область\n",
    "5. Посчитать критерий и посмотреть, попадает ли он в критическую область. Если нет -- то принять основную гипотезу. \n",
    "\n",
    "ИЛИ \n",
    "\n",
    "1. Сформулировать основную (нулевую) и альтернативную гипотезы\n",
    "2. Выбрать критерий (т.е. такую функцию от выборки, которая информативна и имеет известное нам распределение в случае верной нулевой гипотезы)\n",
    "3. Посчитать критерий\n",
    "4. Найти РДУЗ\n",
    "5. Выбрать уровень значимости, сопоставить его с РДУЗ. Если он меньше, чем РДУЗ -- принять основную гипотезу. "
   ]
  }
 ],
 "metadata": {
  "kernelspec": {
   "display_name": "Python 3",
   "language": "python",
   "name": "python3"
  },
  "language_info": {
   "codemirror_mode": {
    "name": "ipython",
    "version": 3
   },
   "file_extension": ".py",
   "mimetype": "text/x-python",
   "name": "python",
   "nbconvert_exporter": "python",
   "pygments_lexer": "ipython3",
   "version": "3.6.8"
  },
  "toc": {
   "base_numbering": 1,
   "nav_menu": {},
   "number_sections": true,
   "sideBar": true,
   "skip_h1_title": false,
   "title_cell": "Table of Contents",
   "title_sidebar": "Contents",
   "toc_cell": false,
   "toc_position": {},
   "toc_section_display": true,
   "toc_window_display": false
  }
 },
 "nbformat": 4,
 "nbformat_minor": 2
}
